{
  "nbformat": 4,
  "nbformat_minor": 0,
  "metadata": {
    "colab": {
      "provenance": []
    },
    "kernelspec": {
      "name": "python3",
      "display_name": "Python 3"
    },
    "language_info": {
      "name": "python"
    }
  },
  "cells": [
    {
      "cell_type": "code",
      "execution_count": null,
      "metadata": {
        "id": "I5nqSSF6mGGS"
      },
      "outputs": [],
      "source": [
        "!git clone https://github.com/shoz-f/stylegan2-ada.git\n",
        "%cd /content/stylegan2-ada/"
      ]
    },
    {
      "cell_type": "code",
      "source": [
        "# Convert pickle to savedmodel\n",
        "!python pkl2savedmodel.py https://nvlabs-fi-cdn.nvidia.com/stylegan2-ada/pretrained/afhqdog.pkl afhqdog\n",
        "\n",
        "# Convert savedmodel to tflite [signature: serving_default]\n",
        "!python export_tflite.py -s mapping afhqdog\n",
        "!python export_tflite.py -s synthesis afhqdog"
      ],
      "metadata": {
        "id": "wijt--EqmlKJ"
      },
      "execution_count": null,
      "outputs": []
    },
    {
      "cell_type": "code",
      "source": [
        "# download the converted model - include saved_model & tflite\n",
        "!zip -r tfl_stylegan2-ada.zip afhqdog afhqdog.mapping.tflite afhqdog.synthesis.tflite\n",
        "from google.colab import files\n",
        "files.download('/content/stylegan2-ada/tfl_stylegan2-ada.zip')"
      ],
      "metadata": {
        "id": "CWWskTs7pBcQ"
      },
      "execution_count": null,
      "outputs": []
    }
  ]
}