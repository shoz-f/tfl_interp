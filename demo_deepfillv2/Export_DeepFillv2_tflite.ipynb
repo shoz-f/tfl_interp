{
  "nbformat": 4,
  "nbformat_minor": 0,
  "metadata": {
    "colab": {
      "provenance": []
    },
    "kernelspec": {
      "name": "python3",
      "display_name": "Python 3"
    },
    "language_info": {
      "name": "python"
    }
  },
  "cells": [
    {
      "cell_type": "code",
      "execution_count": null,
      "metadata": {
        "id": "Xu3Sv0AIeJAD"
      },
      "outputs": [],
      "source": [
        "## download project & convert TF1 to TF2.\n",
        "!git clone https://github.com/JiahuiYu/generative_inpainting\n",
        "!tf_upgrade_v2 --intree generative_inpainting --outtree generative_inpainting_tf2\n",
        "\n",
        "## download support module & convert TF1 to TF2.\n",
        "!git clone https://github.com/JiahuiYu/neuralgym\n",
        "!tf_upgrade_v2 --intree neuralgym/neuralgym/ --outtree generative_inpainting_tf2/neuralgym"
      ]
    },
    {
      "cell_type": "code",
      "source": [
        "## apply patch\n",
        "\n",
        "%%bash\n",
        "cd /content/generative_inpainting_tf2/\n",
        "cat << EOS | git apply\n",
        "diff --git a/inpaint_model.py b/inpaint_model.py\n",
        "index 6e8ca5d..93ccf2e 100644\n",
        "--- a/inpaint_model.py\n",
        "+++ b/inpaint_model.py\n",
        "@@ -4,7 +4,7 @@ import logging\n",
        " import cv2\n",
        " import neuralgym as ng\n",
        " import tensorflow as tf\n",
        "-from tensorflow.contrib.framework.python.ops import arg_scope\n",
        "+from tf_slim import arg_scope\n",
        " \n",
        " from neuralgym.models import Model\n",
        " from neuralgym.ops.summary_ops import scalar_summary, images_summary\n",
        "diff --git a/inpaint_ops.py b/inpaint_ops.py\n",
        "index 740ac46..66ef60b 100644\n",
        "--- a/inpaint_ops.py\n",
        "+++ b/inpaint_ops.py\n",
        "@@ -4,7 +4,7 @@ import math\n",
        " import cv2\n",
        " import numpy as np\n",
        " import tensorflow as tf\n",
        "-from tensorflow.contrib.framework.python.ops import add_arg_scope\n",
        "+from tf_slim import add_arg_scope\n",
        " from PIL import Image, ImageDraw\n",
        " \n",
        " from neuralgym.ops.layers import resize\n",
        "diff --git a/neuralgym/ops/layers.py b/neuralgym/ops/layers.py\n",
        "index d4fabbc..ed35226 100644\n",
        "--- a/neuralgym/ops/layers.py\n",
        "+++ b/neuralgym/ops/layers.py\n",
        "@@ -494,4 +494,4 @@ def flatten(x, name='flatten'):\n",
        " \n",
        "     \"\"\"\n",
        "     with tf.compat.v1.variable_scope(name):\n",
        "-        return tf.contrib.layers.flatten(x)\n",
        "+        return tf.compat.v1.layers.flatten(x)\n",
        "EOS"
      ],
      "metadata": {
        "id": "xeErwG7JnwWv"
      },
      "execution_count": null,
      "outputs": []
    },
    {
      "cell_type": "code",
      "source": [
        "!gdown -O generative_inpainting_tf2/model --folder https://drive.google.com/drive/folders/1y7Irxm3HSHGvp546hZdAZwuNmhLUVcjO?usp=sharing "
      ],
      "metadata": {
        "id": "JEjbQQL-lNYM"
      },
      "execution_count": null,
      "outputs": []
    },
    {
      "cell_type": "code",
      "source": [
        "## test run\n",
        "\n",
        "%cd /content/generative_inpainting_tf2/\n",
        "!python test.py --image examples/places2/case1_input.png --mask examples/places2/case1_mask.png --output case1_output.png --checkpoint_dir model"
      ],
      "metadata": {
        "id": "asKkaiuBpDIu"
      },
      "execution_count": null,
      "outputs": []
    },
    {
      "cell_type": "code",
      "source": [
        "## convert the model to tflite\n",
        "\n",
        "import numpy as np\n",
        "import tensorflow as tf\n",
        "import neuralgym as ng\n",
        "from inpaint_model import InpaintCAModel\n",
        "\n",
        "CHECKPOINT = './model'\n",
        "TFLITE     = 'deepfillv2.tflite'\n",
        "\n",
        "FLAGS = ng.Config('inpaint.yml')\n",
        "model = InpaintCAModel()\n",
        "\n",
        "def saturate_cast_u8(x):\n",
        "  x = tf.math.maximum(x, tf.constant([0.0], dtype=tf.float32))\n",
        "  x = tf.math.minimum(x, tf.constant([255.0], dtype=tf.float32))\n",
        "  x = tf.cast(x, dtype=tf.uint8)\n",
        "  return x\n",
        "\n",
        "sess_config = tf.compat.v1.ConfigProto()\n",
        "sess_config.gpu_options.allow_growth = True\n",
        "with tf.compat.v1.Session(config=sess_config) as sess:\n",
        "  input_image = tf.cast(tf.random.uniform([1,512,1360,3], maxval=255, dtype=tf.int32), tf.float32)\n",
        "  output = model.build_server_graph(FLAGS, input_image)\n",
        "  output = (output + 1.) * 127.5\n",
        "  output = tf.reverse(output, [-1])\n",
        "  output = saturate_cast_u8(output)\n",
        "  # load pretrained model\n",
        "  vars_list = tf.compat.v1.get_collection(tf.compat.v1.GraphKeys.GLOBAL_VARIABLES)\n",
        "  assign_ops = []\n",
        "  for var in vars_list:\n",
        "    vname = var.name\n",
        "    var_value = tf.train.load_variable(CHECKPOINT, vname)\n",
        "    assign_ops.append(tf.compat.v1.assign(var, var_value))\n",
        "  sess.run(assign_ops)\n",
        "  print('Model loaded.')\n",
        "\n",
        "  # save the model as saved_model\n",
        "  tf.compat.v1.saved_model.simple_save(\n",
        "    sess,\n",
        "    './saved_model',\n",
        "    inputs={'input': input_image},\n",
        "    outputs={'output': output})\n",
        "\n",
        "# convert to tflite\n",
        "converter = tf.lite.TFLiteConverter.from_saved_model('./saved_model')\n",
        "converter.allow_custom_ops = True\n",
        "tflite_model = converter.convert()\n",
        "\n",
        "open(TFLITE, \"wb\").write(tflite_model)"
      ],
      "metadata": {
        "id": "n-V-8PfArZ0D"
      },
      "execution_count": null,
      "outputs": []
    },
    {
      "cell_type": "code",
      "source": [
        "## download the converted model - include saved_model & tflite\n",
        "\n",
        "!zip -r tfl_deepfillv2.zip saved_model deepfillv2.tflite\n",
        "from google.colab import files\n",
        "files.download('/content/generative_inpainting_tf2/tfl_deepfillv2.zip')"
      ],
      "metadata": {
        "id": "E_M4VwARfddW"
      },
      "execution_count": null,
      "outputs": []
    },
    {
      "cell_type": "code",
      "source": [
        "## download project\n",
        "\n",
        "!cd ..; zip -r generative_inpainting_tf2.zip ./generative_inpainting_tf2\n",
        "files.download('/content/generative_inpainting_tf2.zip')"
      ],
      "metadata": {
        "id": "JhhZ5uxUS8YY"
      },
      "execution_count": null,
      "outputs": []
    }
  ]
}